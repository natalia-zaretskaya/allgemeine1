{
 "cells": [
  {
   "cell_type": "code",
   "execution_count": 1,
   "id": "9d7deadd-812b-4e20-aad8-40587b68fef6",
   "metadata": {},
   "outputs": [
    {
     "name": "stdout",
     "output_type": "stream",
     "text": [
      "WAV files created: tone_6000Hz.wav and tone_200Hz.wav\n"
     ]
    }
   ],
   "source": [
    "import numpy as np\n",
    "from scipy.io.wavfile import write\n",
    "\n",
    "def generate_tone(frequency, duration, sampling_rate=44100, amplitude=0.5):\n",
    "    \"\"\"\n",
    "    Generate a sine wave tone.\n",
    "    \n",
    "    Parameters:\n",
    "        frequency (float): Frequency of the tone in Hz.\n",
    "        duration (float): Duration of the tone in seconds.\n",
    "        sampling_rate (int): Sampling rate in Hz.\n",
    "        amplitude (float): Amplitude of the wave (0 to 1).\n",
    "    \n",
    "    Returns:\n",
    "        np.ndarray: Generated tone as a NumPy array.\n",
    "    \"\"\"\n",
    "    t = np.linspace(0, duration, int(sampling_rate * duration), endpoint=False)\n",
    "    tone = amplitude * np.sin(2 * np.pi * frequency * t)\n",
    "    return (tone * 32767).astype(np.int16)  # Convert to 16-bit PCM format\n",
    "\n",
    "# Parameters\n",
    "duration = 5  # seconds\n",
    "sampling_rate = 44100  # Hz\n",
    "amplitude = 0.5  # amplitude of the wave (0 to 1)\n",
    "\n",
    "# Generate tones\n",
    "tone_6000 = generate_tone(6000, duration, sampling_rate, amplitude)\n",
    "tone_200 = generate_tone(200, duration, sampling_rate, amplitude)\n",
    "\n",
    "# Save to WAV files\n",
    "write(\"tone_6000Hz.wav\", sampling_rate, tone_6000)\n",
    "write(\"tone_200Hz.wav\", sampling_rate, tone_200)\n",
    "\n",
    "print(\"WAV files created: tone_6000Hz.wav and tone_200Hz.wav\")\n"
   ]
  }
 ],
 "metadata": {
  "kernelspec": {
   "display_name": "Python 3 (ipykernel)",
   "language": "python",
   "name": "python3"
  },
  "language_info": {
   "codemirror_mode": {
    "name": "ipython",
    "version": 3
   },
   "file_extension": ".py",
   "mimetype": "text/x-python",
   "name": "python",
   "nbconvert_exporter": "python",
   "pygments_lexer": "ipython3",
   "version": "3.11.6"
  }
 },
 "nbformat": 4,
 "nbformat_minor": 5
}
