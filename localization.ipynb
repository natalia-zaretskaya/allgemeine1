{
 "cells": [
  {
   "cell_type": "code",
   "execution_count": 1,
   "id": "f0a79eac-7618-492a-a20c-d5bff336e331",
   "metadata": {},
   "outputs": [],
   "source": [
    "import numpy as np\n",
    "import wave\n",
    "import struct\n",
    "\n",
    "def create_stereo_tone(filename, duration=1.0, sample_rate=44100, frequency=440, amplitude=0.5):\n",
    "    \"\"\"\n",
    "    Create a stereo audio file where a tone plays first from the left channel, then from the right channel.\n",
    "    \n",
    "    :param filename: Name of the output WAV file.\n",
    "    :param duration: Duration of the tone for each channel in seconds.\n",
    "    :param sample_rate: Sampling rate in Hz.\n",
    "    :param frequency: Frequency of the tone in Hz.\n",
    "    :param amplitude: Amplitude of the tone (0.0 to 1.0).\n",
    "    \"\"\"\n",
    "    n_samples = int(sample_rate * duration)\n",
    "    t = np.linspace(0, duration, n_samples, endpoint=False)\n",
    "\n",
    "    # Create the tone signal\n",
    "    tone = amplitude * np.sin(2 * np.pi * frequency * t)\n",
    "\n",
    "    # Create the left and right channels\n",
    "    left_channel = np.concatenate([tone, np.zeros(n_samples)])\n",
    "    right_channel = np.concatenate([np.zeros(n_samples), tone])\n",
    "\n",
    "    # Combine the channels into a stereo signal\n",
    "    stereo_signal = np.stack((left_channel, right_channel), axis=1)\n",
    "\n",
    "    # Convert the stereo signal to 16-bit PCM format\n",
    "    pcm_signal = (stereo_signal * 32767).astype(np.int16)\n",
    "\n",
    "    # Write the WAV file\n",
    "    with wave.open(filename, 'w') as wav_file:\n",
    "        wav_file.setnchannels(2)  # Stereo\n",
    "        wav_file.setsampwidth(2)  # 16 bits per sample\n",
    "        wav_file.setframerate(sample_rate)\n",
    "        wav_file.writeframes(pcm_signal.tobytes())\n",
    "\n",
    "# Usage example\n",
    "create_stereo_tone('localization.wav')\n"
   ]
  },
  {
   "cell_type": "code",
   "execution_count": null,
   "id": "7f8bf99a-889a-4ff4-a671-70075e56ff7b",
   "metadata": {},
   "outputs": [],
   "source": []
  }
 ],
 "metadata": {
  "kernelspec": {
   "display_name": "Python 3 (ipykernel)",
   "language": "python",
   "name": "python3"
  },
  "language_info": {
   "codemirror_mode": {
    "name": "ipython",
    "version": 3
   },
   "file_extension": ".py",
   "mimetype": "text/x-python",
   "name": "python",
   "nbconvert_exporter": "python",
   "pygments_lexer": "ipython3",
   "version": "3.11.6"
  }
 },
 "nbformat": 4,
 "nbformat_minor": 5
}
